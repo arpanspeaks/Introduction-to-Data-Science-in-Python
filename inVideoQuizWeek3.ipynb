{
 "cells": [
  {
   "cell_type": "markdown",
   "metadata": {},
   "source": [
    "# In Video Quiz : Week 3"
   ]
  },
  {
   "cell_type": "code",
   "execution_count": 1,
   "metadata": {},
   "outputs": [],
   "source": [
    "import numpy as np\n",
    "import pandas as pd"
   ]
  },
  {
   "cell_type": "markdown",
   "metadata": {},
   "source": [
    "## Quiz 1 (Lecture: Merging Dataframes)\n",
    "\n",
    "##### Here are two DataFrames, products and invoices. The product DataFrame has an identifier and a sticker price. The invoices DataFrame lists the people, product identifiers, and quantity."
   ]
  },
  {
   "cell_type": "code",
   "execution_count": 2,
   "metadata": {},
   "outputs": [],
   "source": [
    "products = pd.DataFrame([[4109, 5.0, 'Sushi Roll'],\n",
    "                        [1412, 0.5, 'Egg'],\n",
    "                        [8931, 1.5, 'Bagel']],\n",
    "                       columns = ['Product ID', 'Price', 'Product'])\n",
    "\n",
    "products.set_index('Product ID', drop = True, inplace = True)\n",
    "\n",
    "invoices = pd.DataFrame([['Ali', 4190, 1],\n",
    "                        ['Eric', 1412, 12],\n",
    "                        ['Ande', 8931, 6],\n",
    "                        ['Sam', 4109, 2]],\n",
    "                       columns = ['Customer', 'Product ID', 'Quantity'])"
   ]
  },
  {
   "cell_type": "code",
   "execution_count": 3,
   "metadata": {},
   "outputs": [
    {
     "data": {
      "text/html": [
       "<div>\n",
       "<style scoped>\n",
       "    .dataframe tbody tr th:only-of-type {\n",
       "        vertical-align: middle;\n",
       "    }\n",
       "\n",
       "    .dataframe tbody tr th {\n",
       "        vertical-align: top;\n",
       "    }\n",
       "\n",
       "    .dataframe thead th {\n",
       "        text-align: right;\n",
       "    }\n",
       "</style>\n",
       "<table border=\"1\" class=\"dataframe\">\n",
       "  <thead>\n",
       "    <tr style=\"text-align: right;\">\n",
       "      <th></th>\n",
       "      <th>Price</th>\n",
       "      <th>Product</th>\n",
       "    </tr>\n",
       "    <tr>\n",
       "      <th>Product ID</th>\n",
       "      <th></th>\n",
       "      <th></th>\n",
       "    </tr>\n",
       "  </thead>\n",
       "  <tbody>\n",
       "    <tr>\n",
       "      <td>4109</td>\n",
       "      <td>5.0</td>\n",
       "      <td>Sushi Roll</td>\n",
       "    </tr>\n",
       "    <tr>\n",
       "      <td>1412</td>\n",
       "      <td>0.5</td>\n",
       "      <td>Egg</td>\n",
       "    </tr>\n",
       "    <tr>\n",
       "      <td>8931</td>\n",
       "      <td>1.5</td>\n",
       "      <td>Bagel</td>\n",
       "    </tr>\n",
       "  </tbody>\n",
       "</table>\n",
       "</div>"
      ],
      "text/plain": [
       "            Price     Product\n",
       "Product ID                   \n",
       "4109          5.0  Sushi Roll\n",
       "1412          0.5         Egg\n",
       "8931          1.5       Bagel"
      ]
     },
     "execution_count": 3,
     "metadata": {},
     "output_type": "execute_result"
    }
   ],
   "source": [
    "products"
   ]
  },
  {
   "cell_type": "code",
   "execution_count": 4,
   "metadata": {},
   "outputs": [
    {
     "data": {
      "text/html": [
       "<div>\n",
       "<style scoped>\n",
       "    .dataframe tbody tr th:only-of-type {\n",
       "        vertical-align: middle;\n",
       "    }\n",
       "\n",
       "    .dataframe tbody tr th {\n",
       "        vertical-align: top;\n",
       "    }\n",
       "\n",
       "    .dataframe thead th {\n",
       "        text-align: right;\n",
       "    }\n",
       "</style>\n",
       "<table border=\"1\" class=\"dataframe\">\n",
       "  <thead>\n",
       "    <tr style=\"text-align: right;\">\n",
       "      <th></th>\n",
       "      <th>Customer</th>\n",
       "      <th>Product ID</th>\n",
       "      <th>Quantity</th>\n",
       "    </tr>\n",
       "  </thead>\n",
       "  <tbody>\n",
       "    <tr>\n",
       "      <td>0</td>\n",
       "      <td>Ali</td>\n",
       "      <td>4190</td>\n",
       "      <td>1</td>\n",
       "    </tr>\n",
       "    <tr>\n",
       "      <td>1</td>\n",
       "      <td>Eric</td>\n",
       "      <td>1412</td>\n",
       "      <td>12</td>\n",
       "    </tr>\n",
       "    <tr>\n",
       "      <td>2</td>\n",
       "      <td>Ande</td>\n",
       "      <td>8931</td>\n",
       "      <td>6</td>\n",
       "    </tr>\n",
       "    <tr>\n",
       "      <td>3</td>\n",
       "      <td>Sam</td>\n",
       "      <td>4109</td>\n",
       "      <td>2</td>\n",
       "    </tr>\n",
       "  </tbody>\n",
       "</table>\n",
       "</div>"
      ],
      "text/plain": [
       "  Customer  Product ID  Quantity\n",
       "0      Ali        4190         1\n",
       "1     Eric        1412        12\n",
       "2     Ande        8931         6\n",
       "3      Sam        4109         2"
      ]
     },
     "execution_count": 4,
     "metadata": {},
     "output_type": "execute_result"
    }
   ],
   "source": [
    "invoices"
   ]
  },
  {
   "cell_type": "markdown",
   "metadata": {},
   "source": [
    "##### Q. Assuming that we want to generate totals, how do we join these two DataFrames together so that we have one which lists all of the information we need?"
   ]
  },
  {
   "cell_type": "markdown",
   "metadata": {},
   "source": [
    "### Answer:"
   ]
  },
  {
   "cell_type": "code",
   "execution_count": 5,
   "metadata": {},
   "outputs": [
    {
     "data": {
      "text/html": [
       "<div>\n",
       "<style scoped>\n",
       "    .dataframe tbody tr th:only-of-type {\n",
       "        vertical-align: middle;\n",
       "    }\n",
       "\n",
       "    .dataframe tbody tr th {\n",
       "        vertical-align: top;\n",
       "    }\n",
       "\n",
       "    .dataframe thead th {\n",
       "        text-align: right;\n",
       "    }\n",
       "</style>\n",
       "<table border=\"1\" class=\"dataframe\">\n",
       "  <thead>\n",
       "    <tr style=\"text-align: right;\">\n",
       "      <th></th>\n",
       "      <th>Price</th>\n",
       "      <th>Product</th>\n",
       "      <th>Customer</th>\n",
       "      <th>Product ID</th>\n",
       "      <th>Quantity</th>\n",
       "    </tr>\n",
       "  </thead>\n",
       "  <tbody>\n",
       "    <tr>\n",
       "      <td>3</td>\n",
       "      <td>5.0</td>\n",
       "      <td>Sushi Roll</td>\n",
       "      <td>Sam</td>\n",
       "      <td>4109</td>\n",
       "      <td>2</td>\n",
       "    </tr>\n",
       "    <tr>\n",
       "      <td>1</td>\n",
       "      <td>0.5</td>\n",
       "      <td>Egg</td>\n",
       "      <td>Eric</td>\n",
       "      <td>1412</td>\n",
       "      <td>12</td>\n",
       "    </tr>\n",
       "    <tr>\n",
       "      <td>2</td>\n",
       "      <td>1.5</td>\n",
       "      <td>Bagel</td>\n",
       "      <td>Ande</td>\n",
       "      <td>8931</td>\n",
       "      <td>6</td>\n",
       "    </tr>\n",
       "  </tbody>\n",
       "</table>\n",
       "</div>"
      ],
      "text/plain": [
       "   Price     Product Customer  Product ID  Quantity\n",
       "3    5.0  Sushi Roll      Sam        4109         2\n",
       "1    0.5         Egg     Eric        1412        12\n",
       "2    1.5       Bagel     Ande        8931         6"
      ]
     },
     "execution_count": 5,
     "metadata": {},
     "output_type": "execute_result"
    }
   ],
   "source": [
    "answer = pd.merge(products, invoices, how='inner', left_index=True, right_on='Product ID')\n",
    "\n",
    "answer"
   ]
  },
  {
   "cell_type": "markdown",
   "metadata": {},
   "source": [
    "## Quiz 2 (Lecture: Pandas Idioms)\n",
    "\n",
    "##### Suppose we are working on a DataFrame that holds information on our equipment for an upcoming backpacking trip."
   ]
  },
  {
   "cell_type": "code",
   "execution_count": 6,
   "metadata": {},
   "outputs": [
    {
     "data": {
      "text/html": [
       "<div>\n",
       "<style scoped>\n",
       "    .dataframe tbody tr th:only-of-type {\n",
       "        vertical-align: middle;\n",
       "    }\n",
       "\n",
       "    .dataframe tbody tr th {\n",
       "        vertical-align: top;\n",
       "    }\n",
       "\n",
       "    .dataframe thead th {\n",
       "        text-align: right;\n",
       "    }\n",
       "</style>\n",
       "<table border=\"1\" class=\"dataframe\">\n",
       "  <thead>\n",
       "    <tr style=\"text-align: right;\">\n",
       "      <th></th>\n",
       "      <th>Category</th>\n",
       "      <th>Quantity</th>\n",
       "      <th>Weight</th>\n",
       "    </tr>\n",
       "    <tr>\n",
       "      <th>Item</th>\n",
       "      <th></th>\n",
       "      <th></th>\n",
       "      <th></th>\n",
       "    </tr>\n",
       "  </thead>\n",
       "  <tbody>\n",
       "    <tr>\n",
       "      <td>Pack</td>\n",
       "      <td>Pack</td>\n",
       "      <td>1</td>\n",
       "      <td>33.0</td>\n",
       "    </tr>\n",
       "    <tr>\n",
       "      <td>Tent</td>\n",
       "      <td>Shelter</td>\n",
       "      <td>1</td>\n",
       "      <td>80.0</td>\n",
       "    </tr>\n",
       "    <tr>\n",
       "      <td>Sleeping Pad</td>\n",
       "      <td>Sleep</td>\n",
       "      <td>0</td>\n",
       "      <td>27.0</td>\n",
       "    </tr>\n",
       "    <tr>\n",
       "      <td>Sleeping Bag</td>\n",
       "      <td>Sleep</td>\n",
       "      <td>1</td>\n",
       "      <td>20.0</td>\n",
       "    </tr>\n",
       "    <tr>\n",
       "      <td>Toothbrush/Toothpaste</td>\n",
       "      <td>Health</td>\n",
       "      <td>1</td>\n",
       "      <td>2.0</td>\n",
       "    </tr>\n",
       "  </tbody>\n",
       "</table>\n",
       "</div>"
      ],
      "text/plain": [
       "                      Category  Quantity  Weight\n",
       "Item                                            \n",
       "Pack                      Pack         1    33.0\n",
       "Tent                   Shelter         1    80.0\n",
       "Sleeping Pad             Sleep         0    27.0\n",
       "Sleeping Bag             Sleep         1    20.0\n",
       "Toothbrush/Toothpaste   Health         1     2.0"
      ]
     },
     "execution_count": 6,
     "metadata": {},
     "output_type": "execute_result"
    }
   ],
   "source": [
    "df = pd.DataFrame([['Pack', 'Pack', 1, 33.0],\n",
    "                   ['Tent', 'Shelter', 1, 80.0],\n",
    "                   ['Sleeping Pad', 'Sleep', 0, 27.0],\n",
    "                   ['Sleeping Bag', 'Sleep', 1, 20.0],\n",
    "                   ['Toothbrush/Toothpaste', 'Health', 1, 2.0],\n",
    "                   ['Sunscreen', 'Health', 1, 5.0],\n",
    "                   ['Medical Kit', 'Health', 1, 3.7],\n",
    "                   ['Spoon', 'Kitchen', 0, 0.7],\n",
    "                   ['Stove', 'Kitchen', 1, 20.0],\n",
    "                   ['Water Filter', 'Kitchen', 1, 1.8],\n",
    "                   ['Water Bottle', 'Kitchen', 2, 35.0],\n",
    "                   ['Pack Liner', 'Utility', 1, 1.0],\n",
    "                   ['Stuff Sack', 'Utility', 0, 1.0],\n",
    "                   ['Trekking Poles', 'Utility', 1, 16.0],\n",
    "                   ['Rain Poncho', 'Clothing', 0, 6.0],\n",
    "                   ['Shoes', 'Clothing', 1, 12.0],\n",
    "                   ['Hat', 'Clothing', 1, 2.5]],\n",
    "                 columns = ['Item', 'Category', 'Quantity', 'Weight'])\n",
    "\n",
    "df.set_index('Item', drop = True, inplace = True)\n",
    "\n",
    "df.head()"
   ]
  },
  {
   "cell_type": "markdown",
   "metadata": {},
   "source": [
    "##### Q. Can you use method chaining to modify the DataFrame df in one statement to drop any entries where 'Quantity' is 0 and rename the column 'Weight' to 'Weight (oz.)'?"
   ]
  },
  {
   "cell_type": "markdown",
   "metadata": {},
   "source": [
    "### Answer:"
   ]
  },
  {
   "cell_type": "code",
   "execution_count": 7,
   "metadata": {},
   "outputs": [
    {
     "data": {
      "text/html": [
       "<div>\n",
       "<style scoped>\n",
       "    .dataframe tbody tr th:only-of-type {\n",
       "        vertical-align: middle;\n",
       "    }\n",
       "\n",
       "    .dataframe tbody tr th {\n",
       "        vertical-align: top;\n",
       "    }\n",
       "\n",
       "    .dataframe thead th {\n",
       "        text-align: right;\n",
       "    }\n",
       "</style>\n",
       "<table border=\"1\" class=\"dataframe\">\n",
       "  <thead>\n",
       "    <tr style=\"text-align: right;\">\n",
       "      <th></th>\n",
       "      <th>Category</th>\n",
       "      <th>Quantity</th>\n",
       "      <th>Weight (oz.)</th>\n",
       "    </tr>\n",
       "    <tr>\n",
       "      <th>Item</th>\n",
       "      <th></th>\n",
       "      <th></th>\n",
       "      <th></th>\n",
       "    </tr>\n",
       "  </thead>\n",
       "  <tbody>\n",
       "    <tr>\n",
       "      <td>Pack</td>\n",
       "      <td>Pack</td>\n",
       "      <td>1</td>\n",
       "      <td>33.0</td>\n",
       "    </tr>\n",
       "    <tr>\n",
       "      <td>Tent</td>\n",
       "      <td>Shelter</td>\n",
       "      <td>1</td>\n",
       "      <td>80.0</td>\n",
       "    </tr>\n",
       "    <tr>\n",
       "      <td>Sleeping Bag</td>\n",
       "      <td>Sleep</td>\n",
       "      <td>1</td>\n",
       "      <td>20.0</td>\n",
       "    </tr>\n",
       "    <tr>\n",
       "      <td>Toothbrush/Toothpaste</td>\n",
       "      <td>Health</td>\n",
       "      <td>1</td>\n",
       "      <td>2.0</td>\n",
       "    </tr>\n",
       "    <tr>\n",
       "      <td>Sunscreen</td>\n",
       "      <td>Health</td>\n",
       "      <td>1</td>\n",
       "      <td>5.0</td>\n",
       "    </tr>\n",
       "    <tr>\n",
       "      <td>Medical Kit</td>\n",
       "      <td>Health</td>\n",
       "      <td>1</td>\n",
       "      <td>3.7</td>\n",
       "    </tr>\n",
       "    <tr>\n",
       "      <td>Stove</td>\n",
       "      <td>Kitchen</td>\n",
       "      <td>1</td>\n",
       "      <td>20.0</td>\n",
       "    </tr>\n",
       "    <tr>\n",
       "      <td>Water Filter</td>\n",
       "      <td>Kitchen</td>\n",
       "      <td>1</td>\n",
       "      <td>1.8</td>\n",
       "    </tr>\n",
       "    <tr>\n",
       "      <td>Water Bottle</td>\n",
       "      <td>Kitchen</td>\n",
       "      <td>2</td>\n",
       "      <td>35.0</td>\n",
       "    </tr>\n",
       "    <tr>\n",
       "      <td>Pack Liner</td>\n",
       "      <td>Utility</td>\n",
       "      <td>1</td>\n",
       "      <td>1.0</td>\n",
       "    </tr>\n",
       "    <tr>\n",
       "      <td>Trekking Poles</td>\n",
       "      <td>Utility</td>\n",
       "      <td>1</td>\n",
       "      <td>16.0</td>\n",
       "    </tr>\n",
       "    <tr>\n",
       "      <td>Shoes</td>\n",
       "      <td>Clothing</td>\n",
       "      <td>1</td>\n",
       "      <td>12.0</td>\n",
       "    </tr>\n",
       "    <tr>\n",
       "      <td>Hat</td>\n",
       "      <td>Clothing</td>\n",
       "      <td>1</td>\n",
       "      <td>2.5</td>\n",
       "    </tr>\n",
       "  </tbody>\n",
       "</table>\n",
       "</div>"
      ],
      "text/plain": [
       "                       Category  Quantity  Weight (oz.)\n",
       "Item                                                   \n",
       "Pack                       Pack         1          33.0\n",
       "Tent                    Shelter         1          80.0\n",
       "Sleeping Bag              Sleep         1          20.0\n",
       "Toothbrush/Toothpaste    Health         1           2.0\n",
       "Sunscreen                Health         1           5.0\n",
       "Medical Kit              Health         1           3.7\n",
       "Stove                   Kitchen         1          20.0\n",
       "Water Filter            Kitchen         1           1.8\n",
       "Water Bottle            Kitchen         2          35.0\n",
       "Pack Liner              Utility         1           1.0\n",
       "Trekking Poles          Utility         1          16.0\n",
       "Shoes                  Clothing         1          12.0\n",
       "Hat                    Clothing         1           2.5"
      ]
     },
     "execution_count": 7,
     "metadata": {},
     "output_type": "execute_result"
    }
   ],
   "source": [
    "answer = df.drop(df[df['Quantity'] == 0].index).rename(columns={'Weight': 'Weight (oz.)'})\n",
    "\n",
    "answer"
   ]
  },
  {
   "cell_type": "markdown",
   "metadata": {},
   "source": [
    "## Quiz 3 (Lecture: Group by)\n",
    "\n",
    "##### Q. Looking at our backpacking equipment DataFrame, suppose we are interested in finding our total weight for each category. Use groupby to group the dataframe, and apply a function to calculate the total weight (Weight x Quantity) by category."
   ]
  },
  {
   "cell_type": "markdown",
   "metadata": {},
   "source": [
    "### Answer 1:"
   ]
  },
  {
   "cell_type": "code",
   "execution_count": 8,
   "metadata": {},
   "outputs": [
    {
     "data": {
      "text/plain": [
       "Category\n",
       "Clothing    14.5\n",
       "Health      10.7\n",
       "Kitchen     91.8\n",
       "Pack        33.0\n",
       "Shelter     80.0\n",
       "Sleep       20.0\n",
       "Utility     17.0\n",
       "dtype: float64"
      ]
     },
     "execution_count": 8,
     "metadata": {},
     "output_type": "execute_result"
    }
   ],
   "source": [
    "answer = df.groupby('Category').apply(lambda df,a,b: sum(df[a] * df[b]), 'Weight', 'Quantity')\n",
    "\n",
    "answer"
   ]
  },
  {
   "cell_type": "markdown",
   "metadata": {},
   "source": [
    "### Answer 2:"
   ]
  },
  {
   "cell_type": "code",
   "execution_count": 9,
   "metadata": {},
   "outputs": [
    {
     "data": {
      "text/plain": [
       "Category\n",
       "Clothing    14.5\n",
       "Health      10.7\n",
       "Kitchen     91.8\n",
       "Pack        33.0\n",
       "Shelter     80.0\n",
       "Sleep       20.0\n",
       "Utility     17.0\n",
       "dtype: float64"
      ]
     },
     "execution_count": 9,
     "metadata": {},
     "output_type": "execute_result"
    }
   ],
   "source": [
    "def totalWeight(df, w, q):\n",
    "       return sum(df[w] * df[q])\n",
    "       \n",
    "answer = df.groupby('Category').apply(totalWeight, 'Weight', 'Quantity')\n",
    "\n",
    "answer"
   ]
  },
  {
   "cell_type": "markdown",
   "metadata": {},
   "source": [
    "## Quiz 4  (Lecture: Scales)\n",
    "\n",
    "##### Suppose we have the following series."
   ]
  },
  {
   "cell_type": "code",
   "execution_count": 10,
   "metadata": {},
   "outputs": [
    {
     "name": "stdout",
     "output_type": "stream",
     "text": [
      "0       Low\n",
      "1       Low\n",
      "2      High\n",
      "3    Medium\n",
      "4       Low\n",
      "5      High\n",
      "6       Low\n",
      "dtype: object\n"
     ]
    }
   ],
   "source": [
    "s = pd.Series(['Low', 'Low', 'High', 'Medium', 'Low', 'High', 'Low'])\n",
    "\n",
    "print(s)"
   ]
  },
  {
   "cell_type": "markdown",
   "metadata": {},
   "source": [
    "##### Q. Try casting this series to categorical with the ordering Low < Medium < High."
   ]
  },
  {
   "cell_type": "markdown",
   "metadata": {},
   "source": [
    "### Answer:"
   ]
  },
  {
   "cell_type": "code",
   "execution_count": null,
   "metadata": {},
   "outputs": [],
   "source": [
    "s.astype('category', categories=['Low', 'Medium', 'High'], ordered=True)"
   ]
  },
  {
   "cell_type": "markdown",
   "metadata": {},
   "source": [
    "## Quiz 5  (Lecture: Scales)\n",
    "\n",
    "##### Suppose we have a series that holds height data for jacket wearers."
   ]
  },
  {
   "cell_type": "code",
   "execution_count": 12,
   "metadata": {},
   "outputs": [
    {
     "name": "stdout",
     "output_type": "stream",
     "text": [
      "0     168\n",
      "1     180\n",
      "2     174\n",
      "3     190\n",
      "4     170\n",
      "5     185\n",
      "6     179\n",
      "7     181\n",
      "8     175\n",
      "9     169\n",
      "10    182\n",
      "11    177\n",
      "12    180\n",
      "13    171\n",
      "dtype: int64\n"
     ]
    }
   ],
   "source": [
    "s = pd.Series([168, 180, 174, 190, 170, 185, 179, 181, 175, 169, 182, 177, 180, 171])\n",
    "\n",
    "print(s)"
   ]
  },
  {
   "cell_type": "markdown",
   "metadata": {},
   "source": [
    "##### Q. Use pd.cut to bin this data into 3 bins."
   ]
  },
  {
   "cell_type": "markdown",
   "metadata": {},
   "source": [
    "### Answer:"
   ]
  },
  {
   "cell_type": "code",
   "execution_count": 13,
   "metadata": {},
   "outputs": [
    {
     "data": {
      "text/plain": [
       "0     (167.978, 175.333]\n",
       "1     (175.333, 182.667]\n",
       "2     (167.978, 175.333]\n",
       "3       (182.667, 190.0]\n",
       "4     (167.978, 175.333]\n",
       "5       (182.667, 190.0]\n",
       "6     (175.333, 182.667]\n",
       "7     (175.333, 182.667]\n",
       "8     (167.978, 175.333]\n",
       "9     (167.978, 175.333]\n",
       "10    (175.333, 182.667]\n",
       "11    (175.333, 182.667]\n",
       "12    (175.333, 182.667]\n",
       "13    (167.978, 175.333]\n",
       "dtype: category\n",
       "Categories (3, interval[float64]): [(167.978, 175.333] < (175.333, 182.667] < (182.667, 190.0]]"
      ]
     },
     "execution_count": 13,
     "metadata": {},
     "output_type": "execute_result"
    }
   ],
   "source": [
    "s.astype('category')\n",
    "\n",
    "pd.cut(s, 3)"
   ]
  },
  {
   "cell_type": "code",
   "execution_count": 14,
   "metadata": {},
   "outputs": [
    {
     "data": {
      "text/plain": [
       "0      Small\n",
       "1     Medium\n",
       "2      Small\n",
       "3      Large\n",
       "4      Small\n",
       "5      Large\n",
       "6     Medium\n",
       "7     Medium\n",
       "8      Small\n",
       "9      Small\n",
       "10    Medium\n",
       "11    Medium\n",
       "12    Medium\n",
       "13     Small\n",
       "dtype: category\n",
       "Categories (3, object): [Small < Medium < Large]"
      ]
     },
     "execution_count": 14,
     "metadata": {},
     "output_type": "execute_result"
    }
   ],
   "source": [
    "# You can also add labels for the sizes [Small < Medium < Large]\n",
    "\n",
    "pd.cut(s, 3, labels = ['Small', 'Medium', 'Large'])"
   ]
  },
  {
   "cell_type": "markdown",
   "metadata": {},
   "source": [
    "## Quiz 6  (Lecture: Pivot Tables)\n",
    "\n",
    "##### Suppose we have a DataFrame with price and ratings for different bikes, broken down by manufacturer and type of bicycle."
   ]
  },
  {
   "cell_type": "code",
   "execution_count": 15,
   "metadata": {},
   "outputs": [
    {
     "name": "stdout",
     "output_type": "stream",
     "text": [
      "   Bike Type Manufacturer  Price  Rating\n",
      "0   Mountain            A    400       8\n",
      "1   Mountain            A    600       9\n",
      "2       Road            A    400       4\n",
      "3       Road            A    450       4\n",
      "4   Mountain            B    300       6\n",
      "5   Mountain            B    250       5\n",
      "6       Road            B    400       4\n",
      "7       Road            B    500       6\n",
      "8   Mountain            C    400       5\n",
      "9   Mountain            C    500       6\n",
      "10      Road            C    800       9\n",
      "11      Road            C    950      10\n"
     ]
    }
   ],
   "source": [
    "Bikes = pd.DataFrame([['Mountain', 'A', 400, 8],\n",
    "                     ['Mountain', 'A', 600, 9],\n",
    "                     ['Road', 'A', 400, 4],\n",
    "                     ['Road', 'A', 450, 4],\n",
    "                     ['Mountain', 'B', 300, 6],\n",
    "                     ['Mountain', 'B', 250, 5],\n",
    "                     ['Road', 'B', 400, 4],\n",
    "                     ['Road', 'B', 500, 6],\n",
    "                     ['Mountain', 'C', 400, 5],\n",
    "                     ['Mountain', 'C', 500, 6],\n",
    "                     ['Road', 'C', 800, 9],\n",
    "                     ['Road', 'C', 950, 10]],\n",
    "                    columns = ['Bike Type', 'Manufacturer', 'Price', 'Rating'])\n",
    "\n",
    "print(Bikes)"
   ]
  },
  {
   "cell_type": "markdown",
   "metadata": {},
   "source": [
    "##### Q. Create a pivot table that shows the mean price and mean rating for every 'Manufacturer' / 'Bike Type' combination."
   ]
  },
  {
   "cell_type": "markdown",
   "metadata": {},
   "source": [
    "### Answer:"
   ]
  },
  {
   "cell_type": "code",
   "execution_count": 16,
   "metadata": {},
   "outputs": [
    {
     "data": {
      "text/html": [
       "<div>\n",
       "<style scoped>\n",
       "    .dataframe tbody tr th:only-of-type {\n",
       "        vertical-align: middle;\n",
       "    }\n",
       "\n",
       "    .dataframe tbody tr th {\n",
       "        vertical-align: top;\n",
       "    }\n",
       "\n",
       "    .dataframe thead th {\n",
       "        text-align: right;\n",
       "    }\n",
       "</style>\n",
       "<table border=\"1\" class=\"dataframe\">\n",
       "  <thead>\n",
       "    <tr style=\"text-align: right;\">\n",
       "      <th></th>\n",
       "      <th></th>\n",
       "      <th>Price</th>\n",
       "      <th>Rating</th>\n",
       "    </tr>\n",
       "    <tr>\n",
       "      <th>Manufacturer</th>\n",
       "      <th>Bike Type</th>\n",
       "      <th></th>\n",
       "      <th></th>\n",
       "    </tr>\n",
       "  </thead>\n",
       "  <tbody>\n",
       "    <tr>\n",
       "      <td rowspan=\"2\" valign=\"top\">A</td>\n",
       "      <td>Mountain</td>\n",
       "      <td>500</td>\n",
       "      <td>8.5</td>\n",
       "    </tr>\n",
       "    <tr>\n",
       "      <td>Road</td>\n",
       "      <td>425</td>\n",
       "      <td>4.0</td>\n",
       "    </tr>\n",
       "    <tr>\n",
       "      <td rowspan=\"2\" valign=\"top\">B</td>\n",
       "      <td>Mountain</td>\n",
       "      <td>275</td>\n",
       "      <td>5.5</td>\n",
       "    </tr>\n",
       "    <tr>\n",
       "      <td>Road</td>\n",
       "      <td>450</td>\n",
       "      <td>5.0</td>\n",
       "    </tr>\n",
       "    <tr>\n",
       "      <td rowspan=\"2\" valign=\"top\">C</td>\n",
       "      <td>Mountain</td>\n",
       "      <td>450</td>\n",
       "      <td>5.5</td>\n",
       "    </tr>\n",
       "    <tr>\n",
       "      <td>Road</td>\n",
       "      <td>875</td>\n",
       "      <td>9.5</td>\n",
       "    </tr>\n",
       "  </tbody>\n",
       "</table>\n",
       "</div>"
      ],
      "text/plain": [
       "                        Price  Rating\n",
       "Manufacturer Bike Type               \n",
       "A            Mountain     500     8.5\n",
       "             Road         425     4.0\n",
       "B            Mountain     275     5.5\n",
       "             Road         450     5.0\n",
       "C            Mountain     450     5.5\n",
       "             Road         875     9.5"
      ]
     },
     "execution_count": 16,
     "metadata": {},
     "output_type": "execute_result"
    }
   ],
   "source": [
    "pd.pivot_table(Bikes, index = ['Manufacturer', 'Bike Type'])"
   ]
  },
  {
   "cell_type": "code",
   "execution_count": null,
   "metadata": {},
   "outputs": [],
   "source": []
  }
 ],
 "metadata": {
  "kernelspec": {
   "display_name": "Python 3",
   "language": "python",
   "name": "python3"
  },
  "language_info": {
   "codemirror_mode": {
    "name": "ipython",
    "version": 3
   },
   "file_extension": ".py",
   "mimetype": "text/x-python",
   "name": "python",
   "nbconvert_exporter": "python",
   "pygments_lexer": "ipython3",
   "version": "3.7.4"
  }
 },
 "nbformat": 4,
 "nbformat_minor": 2
}
